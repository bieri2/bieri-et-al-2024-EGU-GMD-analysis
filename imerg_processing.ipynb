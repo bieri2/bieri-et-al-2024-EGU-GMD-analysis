{
 "cells": [
  {
   "cell_type": "code",
   "execution_count": 4,
   "id": "c2593036-a429-4853-ab49-4b7ad870b74b",
   "metadata": {},
   "outputs": [],
   "source": [
    "#Import necessary packages\n",
    "import os\n",
    "import h5py\n",
    "import matplotlib as mpl\n",
    "import matplotlib.pyplot as plt\n",
    "import numpy as np\n",
    "import re\n",
    "from datetime import datetime\n",
    "import xarray as xr\n",
    "import cartopy.crs as ccrs\n",
    "from cartopy.mpl.gridliner import LONGITUDE_FORMATTER, LATITUDE_FORMATTER\n",
    "import matplotlib.ticker as mticker\n",
    "import glob\n",
    "from netCDF4 import Dataset\n",
    "from wrf import (to_np, getvar, smooth2d, get_cartopy, cartopy_xlim, xy, ll_to_xy,\n",
    "                 cartopy_ylim, latlon_coords, CoordPair, GeoBounds, interp2dxy)\n",
    "import xesmf as xe\n",
    "import pandas as pd\n",
    "import proplot as pplt\n",
    "import cartopy.crs as crs"
   ]
  },
  {
   "cell_type": "code",
   "execution_count": 5,
   "id": "2e24ec50-e8bd-477c-9a3e-6623e7686331",
   "metadata": {},
   "outputs": [],
   "source": [
    "# Define date range\n",
    "dates = pd.date_range('2017-01-01','2019-12-31')"
   ]
  },
  {
   "cell_type": "code",
   "execution_count": 6,
   "id": "47e257a6-f835-4917-bd7b-c0918f04517d",
   "metadata": {},
   "outputs": [],
   "source": [
    "# Read in just the first file\n",
    "pcpfirst = xr.open_dataset('/glade/derecho/scratch/cab478/IMERG/3B-HHR.MS.MRG.3IMERG.20170101-S000000-E002959.0000.V07B.HDF5.nc4')['precipitation']"
   ]
  },
  {
   "cell_type": "code",
   "execution_count": 67,
   "id": "54a8a7f8-3536-463a-b453-f7ce412fe23e",
   "metadata": {},
   "outputs": [],
   "source": [
    "# Read wrfinput file used in Noah-MP simulations to extract latitudes/longitudes\n",
    "ncfile = Dataset('/glade/u/home/cab478/hrldas_resources/resources/wrfinput_d01')\n",
    "dummy  = getvar(ncfile, \"SHDMAX\")\n",
    "lats, lons = latlon_coords(dummy)"
   ]
  },
  {
   "cell_type": "code",
   "execution_count": 70,
   "id": "63c791bf-d261-432d-9eac-a7675b35214b",
   "metadata": {},
   "outputs": [],
   "source": [
    "# Define output (WRF) grid as an xarray Dataset\n",
    "grid_out = xr.Dataset({'lat': (['south_north','west_east'], lats.values),\n",
    "                       'lon': (['south_north','west_east'], lons.values)})"
   ]
  },
  {
   "cell_type": "code",
   "execution_count": null,
   "id": "b73c88a7-8f59-4108-b3f1-f5bbd40dcb75",
   "metadata": {},
   "outputs": [],
   "source": [
    "# Apply regrdding algorithm\n",
    "regridder = xe.Regridder(pcpfirst, grid_out, \"bilinear\")"
   ]
  },
  {
   "cell_type": "code",
   "execution_count": null,
   "id": "76a78db5-1ce3-4038-8b78-ef31d9b9c669",
   "metadata": {},
   "outputs": [],
   "source": [
    "# Read multiple IMERG half hourly precipitation rate files, one date at a time\n",
    "# Regrid IMERG data to our model grid \n",
    "# Resample to 3-hourly frequency\n",
    "# Write to NetCDF file\n",
    "\n",
    "for d in dates:\n",
    "    files = '/glade/derecho/scratch/cab478/IMERG/3B-HHR.MS.MRG.3IMERG.' + d.strftime('%Y%m%d') + '*.nc4'\n",
    "    pcpday = xr.open_mfdataset(sorted(glob.glob(files)))['precipitation']\n",
    "    pcpday_regrid = regridder(pcpday, keep_attrs=True)\n",
    "    pcpday_3hr    = pcpday_regrid.resample(time='3H').mean()\n",
    "    print(d)\n",
    "    pcpday_3hr.to_netcdf('/glade/derecho/scratch/cab478/IMERG/3hr/imerg_3hr_' + d.strftime('%Y%m%d') + '.nc')"
   ]
  },
  {
   "cell_type": "code",
   "execution_count": null,
   "id": "3484dd9c-f424-4ac1-8959-d090ced86194",
   "metadata": {},
   "outputs": [],
   "source": []
  }
 ],
 "metadata": {
  "kernelspec": {
   "display_name": "my-kernel",
   "language": "python",
   "name": "my-kernel"
  },
  "language_info": {
   "codemirror_mode": {
    "name": "ipython",
    "version": 3
   },
   "file_extension": ".py",
   "mimetype": "text/x-python",
   "name": "python",
   "nbconvert_exporter": "python",
   "pygments_lexer": "ipython3",
   "version": "3.7.12"
  }
 },
 "nbformat": 4,
 "nbformat_minor": 5
}
